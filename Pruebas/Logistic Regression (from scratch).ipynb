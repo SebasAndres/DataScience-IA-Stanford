{
 "cells": [
  {
   "cell_type": "code",
   "execution_count": 1,
   "id": "d038b88b",
   "metadata": {},
   "outputs": [],
   "source": [
    "import numpy as np\n",
    "import pandas as pd\n",
    "import matplotlib.pyplot as plt\n",
    "from sklearn.model_selection import train_test_split\n",
    "from sklearn.datasets import load_breast_cancer"
   ]
  },
  {
   "attachments": {},
   "cell_type": "markdown",
   "id": "721e94e0",
   "metadata": {},
   "source": [
    "En este caso el modelo que mejor funcionó en las pruebas fue el 5to:  La regresion logistica utilizando todos los datos.\n",
    "No obstante, el modelo 1 (usando las primeras 10 columnas, las mean) tiene un rendimiento similar, necesitando solo 1/3 de los datos que el primero (97% vs 100%)."
   ]
  },
  {
   "cell_type": "code",
   "execution_count": 2,
   "id": "e3cd0d00",
   "metadata": {},
   "outputs": [
    {
     "name": "stdout",
     "output_type": "stream",
     "text": [
      ".. _breast_cancer_dataset:\n",
      "\n",
      "Breast cancer wisconsin (diagnostic) dataset\n",
      "--------------------------------------------\n",
      "\n",
      "**Data Set Characteristics:**\n",
      "\n",
      "    :Number of Instances: 569\n",
      "\n",
      "    :Number of Attributes: 30 numeric, predictive attributes and the class\n",
      "\n",
      "    :Attribute Information:\n",
      "        - radius (mean of distances from center to points on the perimeter)\n",
      "        - texture (standard deviation of gray-scale values)\n",
      "        - perimeter\n",
      "        - area\n",
      "        - smoothness (local variation in radius lengths)\n",
      "        - compactness (perimeter^2 / area - 1.0)\n",
      "        - concavity (severity of concave portions of the contour)\n",
      "        - concave points (number of concave portions of the contour)\n",
      "        - symmetry\n",
      "        - fractal dimension (\"coastline approximation\" - 1)\n",
      "\n",
      "        The mean, standard error, and \"worst\" or largest (mean of the three\n",
      "        worst/largest values) of these features were computed for each image,\n",
      "        resulting in 30 features.  For instance, field 0 is Mean Radius, field\n",
      "        10 is Radius SE, field 20 is Worst Radius.\n",
      "\n",
      "        - class:\n",
      "                - WDBC-Malignant\n",
      "                - WDBC-Benign\n",
      "\n",
      "    :Summary Statistics:\n",
      "\n",
      "    ===================================== ====== ======\n",
      "                                           Min    Max\n",
      "    ===================================== ====== ======\n",
      "    radius (mean):                        6.981  28.11\n",
      "    texture (mean):                       9.71   39.28\n",
      "    perimeter (mean):                     43.79  188.5\n",
      "    area (mean):                          143.5  2501.0\n",
      "    smoothness (mean):                    0.053  0.163\n",
      "    compactness (mean):                   0.019  0.345\n",
      "    concavity (mean):                     0.0    0.427\n",
      "    concave points (mean):                0.0    0.201\n",
      "    symmetry (mean):                      0.106  0.304\n",
      "    fractal dimension (mean):             0.05   0.097\n",
      "    radius (standard error):              0.112  2.873\n",
      "    texture (standard error):             0.36   4.885\n",
      "    perimeter (standard error):           0.757  21.98\n",
      "    area (standard error):                6.802  542.2\n",
      "    smoothness (standard error):          0.002  0.031\n",
      "    compactness (standard error):         0.002  0.135\n",
      "    concavity (standard error):           0.0    0.396\n",
      "    concave points (standard error):      0.0    0.053\n",
      "    symmetry (standard error):            0.008  0.079\n",
      "    fractal dimension (standard error):   0.001  0.03\n",
      "    radius (worst):                       7.93   36.04\n",
      "    texture (worst):                      12.02  49.54\n",
      "    perimeter (worst):                    50.41  251.2\n",
      "    area (worst):                         185.2  4254.0\n",
      "    smoothness (worst):                   0.071  0.223\n",
      "    compactness (worst):                  0.027  1.058\n",
      "    concavity (worst):                    0.0    1.252\n",
      "    concave points (worst):               0.0    0.291\n",
      "    symmetry (worst):                     0.156  0.664\n",
      "    fractal dimension (worst):            0.055  0.208\n",
      "    ===================================== ====== ======\n",
      "\n",
      "    :Missing Attribute Values: None\n",
      "\n",
      "    :Class Distribution: 212 - Malignant, 357 - Benign\n",
      "\n",
      "    :Creator:  Dr. William H. Wolberg, W. Nick Street, Olvi L. Mangasarian\n",
      "\n",
      "    :Donor: Nick Street\n",
      "\n",
      "    :Date: November, 1995\n",
      "\n",
      "This is a copy of UCI ML Breast Cancer Wisconsin (Diagnostic) datasets.\n",
      "https://goo.gl/U2Uwz2\n",
      "\n",
      "Features are computed from a digitized image of a fine needle\n",
      "aspirate (FNA) of a breast mass.  They describe\n",
      "characteristics of the cell nuclei present in the image.\n",
      "\n",
      "Separating plane described above was obtained using\n",
      "Multisurface Method-Tree (MSM-T) [K. P. Bennett, \"Decision Tree\n",
      "Construction Via Linear Programming.\" Proceedings of the 4th\n",
      "Midwest Artificial Intelligence and Cognitive Science Society,\n",
      "pp. 97-101, 1992], a classification method which uses linear\n",
      "programming to construct a decision tree.  Relevant features\n",
      "were selected using an exhaustive search in the space of 1-4\n",
      "features and 1-3 separating planes.\n",
      "\n",
      "The actual linear program used to obtain the separating plane\n",
      "in the 3-dimensional space is that described in:\n",
      "[K. P. Bennett and O. L. Mangasarian: \"Robust Linear\n",
      "Programming Discrimination of Two Linearly Inseparable Sets\",\n",
      "Optimization Methods and Software 1, 1992, 23-34].\n",
      "\n",
      "This database is also available through the UW CS ftp server:\n",
      "\n",
      "ftp ftp.cs.wisc.edu\n",
      "cd math-prog/cpo-dataset/machine-learn/WDBC/\n",
      "\n",
      ".. topic:: References\n",
      "\n",
      "   - W.N. Street, W.H. Wolberg and O.L. Mangasarian. Nuclear feature extraction \n",
      "     for breast tumor diagnosis. IS&T/SPIE 1993 International Symposium on \n",
      "     Electronic Imaging: Science and Technology, volume 1905, pages 861-870,\n",
      "     San Jose, CA, 1993.\n",
      "   - O.L. Mangasarian, W.N. Street and W.H. Wolberg. Breast cancer diagnosis and \n",
      "     prognosis via linear programming. Operations Research, 43(4), pages 570-577, \n",
      "     July-August 1995.\n",
      "   - W.H. Wolberg, W.N. Street, and O.L. Mangasarian. Machine learning techniques\n",
      "     to diagnose breast cancer from fine-needle aspirates. Cancer Letters 77 (1994) \n",
      "     163-171.\n"
     ]
    }
   ],
   "source": [
    "data = load_breast_cancer()\n",
    "print (data.DESCR)"
   ]
  },
  {
   "cell_type": "code",
   "execution_count": 3,
   "id": "f882b780",
   "metadata": {},
   "outputs": [
    {
     "data": {
      "text/plain": [
       "array(['mean radius', 'mean texture', 'mean perimeter', 'mean area',\n",
       "       'mean smoothness', 'mean compactness', 'mean concavity',\n",
       "       'mean concave points', 'mean symmetry', 'mean fractal dimension',\n",
       "       'radius error', 'texture error', 'perimeter error', 'area error',\n",
       "       'smoothness error', 'compactness error', 'concavity error',\n",
       "       'concave points error', 'symmetry error',\n",
       "       'fractal dimension error', 'worst radius', 'worst texture',\n",
       "       'worst perimeter', 'worst area', 'worst smoothness',\n",
       "       'worst compactness', 'worst concavity', 'worst concave points',\n",
       "       'worst symmetry', 'worst fractal dimension'], dtype='<U23')"
      ]
     },
     "execution_count": 3,
     "metadata": {},
     "output_type": "execute_result"
    }
   ],
   "source": [
    "data.feature_names"
   ]
  },
  {
   "cell_type": "code",
   "execution_count": 4,
   "id": "9ea40ab3",
   "metadata": {},
   "outputs": [],
   "source": [
    "from sklearn.preprocessing import StandardScaler\n",
    "ss = StandardScaler()\n",
    "X = ss.fit_transform (data.data[:,:10]) # elijo las primeras 10 columnas (las 'mean')\n",
    "Y = data.target"
   ]
  },
  {
   "cell_type": "code",
   "execution_count": 5,
   "id": "351bdb39",
   "metadata": {},
   "outputs": [],
   "source": [
    "x_train, x_test, y_train, y_test = train_test_split(X, Y, train_size=0.8)"
   ]
  },
  {
   "cell_type": "code",
   "execution_count": 6,
   "id": "0e50f41d",
   "metadata": {},
   "outputs": [],
   "source": [
    "class LogisticRegressor():\n",
    "    \n",
    "    def __init__ (self, nCols): \n",
    "        \"\"\" Inicializo modelo \"\"\"\n",
    "        self.w = np.zeros(nCols)\n",
    "        self.b = 0\n",
    "        self.n_features = nCols\n",
    "        self.loss_progress = []\n",
    "    \n",
    "    def compute_gradient (self, X, Y):\n",
    "        \"\"\" Return dW y dB, despues de las 'm' iteraciones \"\"\"\n",
    "        m, n = X.shape\n",
    "        sum_dB = .0\n",
    "        sum_dW = np.zeros(n)\n",
    "\n",
    "        for i in range (m):\n",
    "            sum_dB += self.predict(X[i])- Y[i] # dB_i\n",
    "            for j in range(n):\n",
    "                sum_dW[j] += (self.predict(X[i])- Y[i]) * X[i][j] # dW_ij\n",
    "        \n",
    "        dB = sum_dB / m\n",
    "        dW = sum_dW / m\n",
    "        \n",
    "        return dW, dB\n",
    "        \n",
    "    def compute_loss (self, y, preds):\n",
    "        \"\"\" \n",
    "        Return error medio (1/m)*Sum([error(xi, yi) for i in range(m)])\n",
    "        \"\"\"\n",
    "        m = y.shape[0]\n",
    "        error_i = lambda gi, yi: - yi*np.log(gi) - (1-yi)*np.log(1-gi)\n",
    "        return (1/m) * sum([error_i(preds[i], y[i]) for i in range(m)]) \n",
    "    \n",
    "    def sigmoid (self, z):\n",
    "        return 1 / (1+np.e**(-z))\n",
    "    \n",
    "    def predict (self, X, threshold=0.5, wThreshold=False):\n",
    "        \"\"\" Return float g(f(x)) o (m, ) float array\"\"\"\n",
    "        dim = X.ndim\n",
    "        if dim > 1:\n",
    "            m = X.shape[0]\n",
    "            ret = np.zeros(m)\n",
    "            for i in range(m):\n",
    "                z_i = self.w @ X[i] + self.b\n",
    "                if wThreshold:\n",
    "                    ret[i] = self.sigmoid (z_i) >= 0.5\n",
    "                else:\n",
    "                    ret[i] = self.sigmoid (z_i)\n",
    "            return ret\n",
    "        else:\n",
    "            z = np.dot(self.w, X) + self.b\n",
    "            if wThreshold:\n",
    "                return self.sigmoid (z) >= 0.5\n",
    "            else:\n",
    "                return self.sigmoid (z)\n",
    "            \n",
    "    \n",
    "    def fit (self, X, Y, l_rate=0.05, n_epochs=1000, verb=False):\n",
    "        for n in range(n_epochs):\n",
    "            dW, dB = self.compute_gradient (X, Y)\n",
    "            self.w -= l_rate * dW\n",
    "            self.b -= l_rate * dB\n",
    "            preds = self.predict(X)\n",
    "            nLoss = self.compute_loss(Y, preds)\n",
    "            self.loss_progress.append(nLoss)\n",
    "            if n % 100 == 0: print (f\"{n}* epoch: {nLoss}\")\n",
    "        print (f\"* Modelo entrenado. Internal Last Error (train_data): {self.loss_progress[-1]}\")\n",
    "        if verb:\n",
    "            plt.plot(list(range(0, n_epochs)), self.loss_progress)\n",
    "            plt.title(f\"Loss history w/ l_rate:{l_rate}\")\n",
    "            plt.show()"
   ]
  },
  {
   "attachments": {},
   "cell_type": "markdown",
   "id": "d542c1e2",
   "metadata": {},
   "source": [
    "## MODELO 1 (97.4%) [mean_cols]"
   ]
  },
  {
   "cell_type": "code",
   "execution_count": 7,
   "id": "9cf82bb1",
   "metadata": {},
   "outputs": [
    {
     "name": "stdout",
     "output_type": "stream",
     "text": [
      "0* epoch: 0.6186332823038769\n",
      "100* epoch: 0.1833451949041051\n",
      "200* epoch: 0.16446704023810535\n",
      "300* epoch: 0.15729731111162873\n",
      "400* epoch: 0.15346201975025983\n",
      "500* epoch: 0.1510677140076375\n",
      "600* epoch: 0.14943240740794375\n",
      "700* epoch: 0.14824689867635996\n",
      "800* epoch: 0.1473499619315119\n",
      "900* epoch: 0.14664910017918378\n",
      "* Modelo entrenado. Internal Last Error (train_data): 0.1460924524881229\n"
     ]
    },
    {
     "data": {
      "image/png": "[encoded data removed]",
      "text/plain": [
       "<Figure size 432x288 with 1 Axes>"
      ]
     },
     "metadata": {
      "needs_background": "light"
     },
     "output_type": "display_data"
    }
   ],
   "source": [
    "logReg = LogisticRegressor(x_train.shape[1])\n",
    "\n",
    "# error inicial\n",
    "test_preds = logReg.predict(x_test)\n",
    "initial_error = logReg.compute_loss(y_test, test_preds)\n",
    "\n",
    "logReg.fit(x_train, y_train, l_rate=0.1, verb=True)"
   ]
  },
  {
   "cell_type": "code",
   "execution_count": 8,
   "id": "1ce059bd",
   "metadata": {},
   "outputs": [
    {
     "data": {
      "text/plain": [
       "(0.693, 0.103)"
      ]
     },
     "execution_count": 8,
     "metadata": {},
     "output_type": "execute_result"
    }
   ],
   "source": [
    "# Pruebo con test_data\n",
    "test_preds = logReg.predict(x_test)\n",
    "final_error = logReg.compute_loss(y_test, test_preds)\n",
    "round(initial_error, 3), round (final_error, 3)"
   ]
  },
  {
   "cell_type": "code",
   "execution_count": 9,
   "id": "3757a478",
   "metadata": {},
   "outputs": [
    {
     "name": "stdout",
     "output_type": "stream",
     "text": [
      "Modelo 1 (test accuracy): 97.368421\n"
     ]
    }
   ],
   "source": [
    "# Modelo 1: usando las primeras 10 columnas (mean)\n",
    "modelo1 = logReg \n",
    "print('Modelo 1 (test accuracy): %f'%(np.mean(modelo1.predict(x_test, wThreshold=True) == y_test) * 100))"
   ]
  },
  {
   "attachments": {},
   "cell_type": "markdown",
   "id": "dede3b68",
   "metadata": {},
   "source": [
    "## MODELO 2 (91.2%) [error cols]"
   ]
  },
  {
   "cell_type": "code",
   "execution_count": 10,
   "id": "62b5f41e",
   "metadata": {},
   "outputs": [
    {
     "name": "stdout",
     "output_type": "stream",
     "text": [
      "0* epoch: 0.6779800826570568\n",
      "100* epoch: 0.390010092559225\n",
      "200* epoch: 0.3512346503421382\n",
      "300* epoch: 0.33524753822040193\n",
      "400* epoch: 0.32615012375992497\n",
      "500* epoch: 0.32011593695805607\n",
      "600* epoch: 0.3157476178864943\n",
      "700* epoch: 0.31239893033503446\n",
      "800* epoch: 0.3097234613036918\n",
      "900* epoch: 0.30751643361747705\n",
      "* Modelo entrenado. Internal Last Error (train_data): 0.3056656208968298\n",
      "Modelo 2 (test accuracy): 91.228070\n"
     ]
    }
   ],
   "source": [
    "## Modelo 2: usando columnas 10 a 20 (error)\n",
    "X2 = ss.fit_transform (data.data[:,10:20])\n",
    "x_train, x_test, y_train, y_test = train_test_split(X2, Y, train_size=0.8)\n",
    "\n",
    "modelo2 = LogisticRegressor(x_train.shape[1])\n",
    "modelo2.fit(X2, Y)\n",
    "\n",
    "test_preds = modelo2.predict(x_test)\n",
    "final_error = modelo2.compute_loss(y_test, test_preds)\n",
    "\n",
    "print('Modelo 2 (test accuracy): %f'%(np.mean(modelo2.predict(x_test, wThreshold=True) == y_test) * 100)) \n",
    "# menor rendimiento"
   ]
  },
  {
   "attachments": {},
   "cell_type": "markdown",
   "id": "6e133a58",
   "metadata": {},
   "source": [
    "## MODELO 3 (84%) [worst cols]"
   ]
  },
  {
   "cell_type": "code",
   "execution_count": 11,
   "id": "76d3a5b4",
   "metadata": {},
   "outputs": [
    {
     "name": "stdout",
     "output_type": "stream",
     "text": [
      "0* epoch: 0.6779800826570568\n",
      "100* epoch: 0.390010092559225\n",
      "200* epoch: 0.3512346503421382\n",
      "300* epoch: 0.33524753822040193\n",
      "400* epoch: 0.32615012375992497\n",
      "500* epoch: 0.32011593695805607\n",
      "600* epoch: 0.3157476178864943\n",
      "700* epoch: 0.31239893033503446\n",
      "800* epoch: 0.3097234613036918\n",
      "900* epoch: 0.30751643361747705\n",
      "* Modelo entrenado. Internal Last Error (train_data): 0.3056656208968298\n",
      "Modelo 3 (test accuracy): 84.210526\n"
     ]
    }
   ],
   "source": [
    "## Modelo 3: usando columnas 20 a 30 (worst)\n",
    "X3 = ss.fit_transform (data.data[:,20:30])\n",
    "x_train, x_test, y_train, y_test = train_test_split(X3, Y, train_size=0.8)\n",
    "\n",
    "modelo3 = LogisticRegressor(x_train.shape[1])\n",
    "modelo3.fit(X2, Y)\n",
    "\n",
    "test_preds = modelo3.predict(x_test)\n",
    "final_error = modelo3.compute_loss(y_test, test_preds)\n",
    "\n",
    "print('Modelo 3 (test accuracy): %f'%(np.mean(modelo3.predict(x_test, wThreshold=True) == y_test) * 100))\n",
    "# Modelo1 > Modelo3 > Modelo2"
   ]
  },
  {
   "attachments": {},
   "cell_type": "markdown",
   "id": "38dd84e5",
   "metadata": {},
   "source": [
    "## MODELO 4 (86.8%) [mean/std error]"
   ]
  },
  {
   "cell_type": "code",
   "execution_count": 12,
   "id": "eaf23fa7",
   "metadata": {},
   "outputs": [
    {
     "name": "stderr",
     "output_type": "stream",
     "text": [
      "C:\\Users\\sebas\\AppData\\Local\\Temp\\ipykernel_22952\\2442601928.py:6: RuntimeWarning: invalid value encountered in true_divide\n",
      "  val = (data.data[:, 0+j]) / (data.data[:, 10+j])\n"
     ]
    },
    {
     "data": {
      "text/plain": [
       "array([[16.42922374, 11.46581244, 14.29735708, ...,  9.26906112,\n",
       "         8.05527806, 12.70951074],\n",
       "       [37.84728611, 24.21310805, 39.11124191, ...,  5.23656716,\n",
       "        13.04535637, 16.04473386],\n",
       "       [26.4082618 , 27.004702  , 28.35332606, ...,  6.21477162,\n",
       "         9.19555556, 13.12404288],\n",
       "       ...,\n",
       "       [36.37160386, 26.12093023, 31.62043796, ...,  3.40526654,\n",
       "        12.06373293, 14.51181912],\n",
       "       [28.37465565, 18.38871473, 24.27234927, ...,  9.13461538,\n",
       "        10.3141136 , 11.34357316],\n",
       "       [20.11926368, 17.18487395, 18.80690738, ...,  3.9683907 ,\n",
       "         5.93049327, 21.14265181]])"
      ]
     },
     "execution_count": 12,
     "metadata": {},
     "output_type": "execute_result"
    }
   ],
   "source": [
    "# Feature Engineering ? # mean / stderror\n",
    "m = data.data.shape[0]\n",
    "X4 = np.zeros([m, 10])\n",
    "\n",
    "for j in range(10): # \n",
    "    val = (data.data[:, 0+j]) / (data.data[:, 10+j])\n",
    "    X4[:, 0+j] = val\n",
    "\n",
    "from sklearn.impute import SimpleImputer\n",
    "si = SimpleImputer()\n",
    "si.fit_transform(X4)"
   ]
  },
  {
   "cell_type": "code",
   "execution_count": 13,
   "id": "0e1bda22",
   "metadata": {},
   "outputs": [
    {
     "name": "stdout",
     "output_type": "stream",
     "text": [
      "0* epoch: 0.6779800826570568\n",
      "100* epoch: 0.390010092559225\n",
      "200* epoch: 0.3512346503421382\n",
      "300* epoch: 0.33524753822040193\n",
      "400* epoch: 0.32615012375992497\n",
      "500* epoch: 0.32011593695805607\n",
      "600* epoch: 0.3157476178864943\n",
      "700* epoch: 0.31239893033503446\n",
      "800* epoch: 0.3097234613036918\n",
      "900* epoch: 0.30751643361747705\n",
      "* Modelo entrenado. Internal Last Error (train_data): 0.3056656208968298\n",
      "Modelo 4 (test accuracy): 86.842105\n"
     ]
    }
   ],
   "source": [
    "## Modelo 4: usando feature_engineering:         \n",
    "m = data.data.shape[0]\n",
    "\n",
    "X4 = ss.fit_transform (data.data[:,10:20])\n",
    "x_train, x_test, y_train, y_test = train_test_split(X4, Y, train_size=0.8)\n",
    "\n",
    "modelo4 = LogisticRegressor(x_train.shape[1])\n",
    "modelo4.fit(X4, Y)\n",
    "\n",
    "test_preds = modelo4.predict(x_test)\n",
    "final_error = modelo4.compute_loss(y_test, test_preds)\n",
    "\n",
    "print('Modelo 4 (test accuracy): %f'%(np.mean(modelo4.predict(x_test, wThreshold=True) == y_test) * 100))"
   ]
  },
  {
   "attachments": {},
   "cell_type": "markdown",
   "id": "c3e75290",
   "metadata": {},
   "source": [
    "## MODELO 5 (100%) [all cols]"
   ]
  },
  {
   "cell_type": "code",
   "execution_count": 14,
   "id": "a91b4aab",
   "metadata": {},
   "outputs": [
    {
     "name": "stdout",
     "output_type": "stream",
     "text": [
      "0* epoch: 0.6005808191374273\n",
      "100* epoch: 0.12940657042719353\n",
      "200* epoch: 0.10278175008897057\n",
      "300* epoch: 0.0913020160037522\n",
      "400* epoch: 0.08456192229465984\n",
      "500* epoch: 0.08000146472503492\n",
      "600* epoch: 0.07664914578654126\n",
      "700* epoch: 0.07404681385420292\n",
      "800* epoch: 0.07194733613623958\n",
      "900* epoch: 0.07020446298863492\n",
      "* Modelo entrenado. Internal Last Error (train_data): 0.06873922660427789\n",
      "Modelo 5 (test accuracy): 100.000000\n"
     ]
    }
   ],
   "source": [
    "# Modelo 5: todos los datos\n",
    "X5 = ss.fit_transform (data.data)\n",
    "x_train, x_test, y_train, y_test = train_test_split(X5, Y, train_size=0.8)\n",
    "\n",
    "modelo5 = LogisticRegressor(x_train.shape[1])\n",
    "modelo5.fit(X5, Y)\n",
    "\n",
    "test_preds = modelo5.predict(x_test)\n",
    "final_error = modelo5.compute_loss(y_test, test_preds)\n",
    "\n",
    "print('Modelo 5 (test accuracy): %f'%(np.mean(modelo5.predict(x_test, wThreshold=True) == y_test) * 100))"
   ]
  }
 ],
 "metadata": {
  "kernelspec": {
   "display_name": "Python 3 (ipykernel)",
   "language": "python",
   "name": "python3"
  },
  "language_info": {
   "codemirror_mode": {
    "name": "ipython",
    "version": 3
   },
   "file_extension": ".py",
   "mimetype": "text/x-python",
   "name": "python",
   "nbconvert_exporter": "python",
   "pygments_lexer": "ipython3",
   "version": "3.9.12"
  }
 },
 "nbformat": 4,
 "nbformat_minor": 5
}
